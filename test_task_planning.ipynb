{
 "cells": [
  {
   "cell_type": "code",
   "execution_count": 6,
   "metadata": {},
   "outputs": [
    {
     "name": "stdout",
     "output_type": "stream",
     "text": [
      "['MiniGrid-BlockedUnlockPickup-v0', 'MiniGrid-LavaCrossingS9N1-v0', 'MiniGrid-LavaCrossingS9N2-v0', 'MiniGrid-LavaCrossingS9N3-v0', 'MiniGrid-LavaCrossingS11N5-v0', 'MiniGrid-SimpleCrossingS9N1-v0', 'MiniGrid-SimpleCrossingS9N2-v0', 'MiniGrid-SimpleCrossingS9N3-v0', 'MiniGrid-SimpleCrossingS11N5-v0', 'MiniGrid-DistShift1-v0', 'MiniGrid-DistShift2-v0', 'MiniGrid-DoorKey-5x5-v0', 'MiniGrid-DoorKey-6x6-v0', 'MiniGrid-DoorKey-8x8-v0', 'MiniGrid-DoorKey-16x16-v0', 'MiniGrid-Dynamic-Obstacles-5x5-v0', 'MiniGrid-Dynamic-Obstacles-Random-5x5-v0', 'MiniGrid-Dynamic-Obstacles-6x6-v0', 'MiniGrid-Dynamic-Obstacles-Random-6x6-v0', 'MiniGrid-Dynamic-Obstacles-8x8-v0', 'MiniGrid-Dynamic-Obstacles-16x16-v0', 'MiniGrid-Empty-5x5-v0', 'MiniGrid-Empty-Random-5x5-v0', 'MiniGrid-Empty-6x6-v0', 'MiniGrid-Empty-Random-6x6-v0', 'MiniGrid-Empty-8x8-v0', 'MiniGrid-Empty-16x16-v0', 'MiniGrid-Fetch-5x5-N2-v0', 'MiniGrid-Fetch-6x6-N2-v0', 'MiniGrid-Fetch-8x8-N3-v0', 'MiniGrid-FourRooms-v0', 'MiniGrid-GoToDoor-5x5-v0', 'MiniGrid-GoToDoor-6x6-v0', 'MiniGrid-GoToDoor-8x8-v0', 'MiniGrid-GoToObject-6x6-N2-v0', 'MiniGrid-GoToObject-8x8-N2-v0', 'MiniGrid-KeyCorridorS3R1-v0', 'MiniGrid-KeyCorridorS3R2-v0', 'MiniGrid-KeyCorridorS3R3-v0', 'MiniGrid-KeyCorridorS4R3-v0', 'MiniGrid-KeyCorridorS5R3-v0', 'MiniGrid-KeyCorridorS6R3-v0', 'MiniGrid-LavaGapS5-v0', 'MiniGrid-LavaGapS6-v0', 'MiniGrid-LavaGapS7-v0', 'MiniGrid-LockedRoom-v0', 'MiniGrid-MemoryS17Random-v0', 'MiniGrid-MemoryS13Random-v0', 'MiniGrid-MemoryS13-v0', 'MiniGrid-MemoryS11-v0', 'MiniGrid-MemoryS9-v0', 'MiniGrid-MemoryS7-v0', 'MiniGrid-MultiRoom-N2-S4-v0', 'MiniGrid-MultiRoom-N4-S5-v0', 'MiniGrid-MultiRoom-N6-v0', 'MiniGrid-ObstructedMaze-1Dl-v0', 'MiniGrid-ObstructedMaze-1Dlh-v0', 'MiniGrid-ObstructedMaze-1Dlhb-v0', 'MiniGrid-ObstructedMaze-2Dl-v0', 'MiniGrid-ObstructedMaze-2Dlh-v0', 'MiniGrid-ObstructedMaze-2Dlhb-v0', 'MiniGrid-ObstructedMaze-1Q-v0', 'MiniGrid-ObstructedMaze-2Q-v0', 'MiniGrid-ObstructedMaze-Full-v0', 'MiniGrid-ObstructedMaze-2Dlhb-v1', 'MiniGrid-ObstructedMaze-1Q-v1', 'MiniGrid-ObstructedMaze-2Q-v1', 'MiniGrid-ObstructedMaze-Full-v1', 'MiniGrid-Playground-v0', 'MiniGrid-PutNear-6x6-N2-v0', 'MiniGrid-PutNear-8x8-N3-v0', 'MiniGrid-RedBlueDoors-6x6-v0', 'MiniGrid-RedBlueDoors-8x8-v0', 'MiniGrid-Unlock-v0', 'MiniGrid-UnlockPickup-v0', 'MiniGrid-WFC-MazeSimple-v0', 'MiniGrid-WFC-DungeonMazeScaled-v0', 'MiniGrid-WFC-RoomsFabric-v0', 'MiniGrid-WFC-ObstaclesBlackdots-v0', 'MiniGrid-WFC-ObstaclesAngular-v0', 'MiniGrid-WFC-ObstaclesHogs3-v0']\n",
      "seed is 494\n"
     ]
    },
    {
     "data": {
      "image/png": "[encoded data removed]",
      "text/plain": [
       "<Figure size 640x480 with 1 Axes>"
      ]
     },
     "metadata": {},
     "output_type": "display_data"
    },
    {
     "name": "stdout",
     "output_type": "stream",
     "text": [
      "\n",
      "Knowledge Base: \n",
      "Room 0:\n",
      "  purple ball is at (1, 1)\n",
      "  purple door is at (5, 3) and is currently locked\n",
      "Room 1:\n",
      "  yellow key is at (6, 2)\n",
      "  purple door is at (5, 3) and is currently locked\n",
      "  yellow door is at (10, 4) and is currently locked\n",
      "Room 2:\n",
      "  purple key is at (11, 4)\n",
      "  yellow door is at (10, 4) and is currently locked\n",
      "\n",
      "Connections:\n",
      "Room 0 connect to Room 1 by purple door at (5, 3) which is currently locked\n",
      "Room 1 connect to Room 2 by yellow door at (10, 4) which is currently locked\n",
      "\n"
     ]
    }
   ],
   "source": [
    "%reload_ext autoreload\n",
    "%autoreload 2\n",
    "import random\n",
    "import gymnasium as gym\n",
    "import minigrid\n",
    "import matplotlib.pyplot as plt\n",
    "from VLA2Systems.utils import (\n",
    "    print_grid,\n",
    "    render_env\n",
    ")\n",
    "from VLA2Systems.knowledge_base import KnowledgeBase\n",
    "import imageio\n",
    "\n",
    "def save_env_image(env, filename=\"env_image.png\"):\n",
    "    \"\"\"Save the environment image to a file.\"\"\"\n",
    "    frame = env.render()\n",
    "    imageio.imwrite(filename, frame)\n",
    "\n",
    "# # List all available MiniGrid environments\n",
    "env_list = [env_id for env_id in gym.envs.registry if \"MiniGrid\" in env_id]\n",
    "print(env_list)\n",
    "# Randomly select an environment\n",
    "env_name = random.choice(env_list)\n",
    "# print(f\"Selected Environment: {env_name}\")\n",
    "# env_name = \"BabyAI-ActionObjDoor-v0\"\n",
    "# env_name = \"MiniGrid-DoorKey-16x16-v0\"\n",
    "# env_name = \"BabyAI-BlockedUnlockPickup-v0\"\n",
    "# env_name = \"BabyAI-FindObjS5-v0\"\n",
    "# env_name = \"BabyAI-BossLevel-v0\"\n",
    "# env_name = \"MiniGrid-MultiRoom-N6-v0\"\n",
    "# env_name = \"MiniGrid-MultiRoom-N4-S5-v0\"\n",
    "env_name = \"BabyAI-UnlockToUnlock-v0\"\n",
    "\n",
    "# seed = 69\n",
    "seed = random.randint(1, 1000)\n",
    "seed = 494 # 152, 232\n",
    "# seed = 39\n",
    "print(f\"seed is {seed}\")\n",
    "# Create the environment\n",
    "env = gym.make(env_name, render_mode=\"rgb_array\")\n",
    "\n",
    "# Reset the environment to initialize it\n",
    "env.reset(seed=seed)\n",
    "# env.reset()\n",
    "knowledge_base = KnowledgeBase(env)\n",
    "# Print the grid\n",
    "# print(\"\\nGrid Map:\")\n",
    "# print_grid(knowledge_base.grid_data)\n",
    "# Render the environment dynamically\n",
    "fig, ax = plt.subplots()\n",
    "render_env(env, ax, 2)\n",
    "# Save the environment image\n",
    "save_env_image(env, filename=\"env_image.png\")\n",
    "\n",
    "print(f\"\\nKnowledge Base: \\n{knowledge_base}\\n\")\n",
    "with open(\"./file.txt\",'w') as file:\n",
    "    file.write(str(knowledge_base))\n"
   ]
  },
  {
   "cell_type": "code",
   "execution_count": 7,
   "metadata": {},
   "outputs": [
    {
     "name": "stdout",
     "output_type": "stream",
     "text": [
      "Planner\n",
      "start location is: (3, (7, 1))\n"
     ]
    }
   ],
   "source": [
    "%reload_ext autoreload\n",
    "%autoreload 2\n",
    "from VLA2Systems.task_planning import RobotPlanner\n",
    "print(\"Planner\")\n",
    "robot_position = env.unwrapped.agent_pos\n",
    "robot_direction = env.unwrapped.agent_dir\n",
    "start_location = int(robot_direction), tuple((int(robot_position[0]), int(robot_position[1])))\n",
    "holding = None\n",
    "# start_location = 0, (1, 11)\n",
    "# holding=('key', 'yellow')\n",
    "print(f\"start location is: {start_location}\")\n",
    "\n",
    "planner = RobotPlanner(knowledge_base, start_location=start_location, holding=holding, verbose=0)\n"
   ]
  },
  {
   "cell_type": "code",
   "execution_count": 8,
   "metadata": {},
   "outputs": [
    {
     "data": {
      "image/png": "[encoded data removed]",
      "text/plain": [
       "<Figure size 640x480 with 1 Axes>"
      ]
     },
     "metadata": {},
     "output_type": "display_data"
    },
    {
     "name": "stdout",
     "output_type": "stream",
     "text": [
      "Step 1: Pick up yellow key\n",
      "Step 2: Open yellow door\n",
      "Step 3: Pick up purple key\n",
      "Step 4: Open purple door\n",
      "Step 5: Go to purple ball\n"
     ]
    }
   ],
   "source": [
    "# plan = planner.plan_go_to('red', 'door')\n",
    "# plan = planner.plan_go_to('green', 'key')\n",
    "# plan = planner.plan_go_to('yellow', 'key')\n",
    "plan = planner.plan_go_to('purple', 'ball')\n",
    "# plan = planner.plan_go_to('green', 'goal')\n",
    "# plan = planner.plan_go_to('purple', 'box', (10, 19))\n",
    "# print(plan)\n",
    "if plan:\n",
    "    fig, ax = plt.subplots()\n",
    "    render_env(env, ax, 2)\n",
    "    print(planner)\n",
    "else:\n",
    "    print(\"No valid plan found.\")"
   ]
  },
  {
   "cell_type": "code",
   "execution_count": 9,
   "metadata": {},
   "outputs": [
    {
     "data": {
      "image/png": "[encoded data removed]",
      "text/plain": [
       "<Figure size 640x480 with 1 Axes>"
      ]
     },
     "metadata": {},
     "output_type": "display_data"
    },
    {
     "name": "stdout",
     "output_type": "stream",
     "text": [
      "Step 1: Pick up yellow key\n",
      "Step 2: Open yellow door\n",
      "Step 3: Pick up purple key\n",
      "Step 4: Open purple door\n",
      "Step 5: Pick up purple ball\n"
     ]
    }
   ],
   "source": [
    "plan = planner.plan_pick_up('purple', 'ball')\n",
    "# plan = planner.plan_pick_up('green', 'goal')\n",
    "if plan:\n",
    "    fig, ax = plt.subplots()\n",
    "    render_env(env, ax, 2)\n",
    "    print(planner)\n",
    "else:\n",
    "    print(\"No valid plan found.\")"
   ]
  },
  {
   "cell_type": "code",
   "execution_count": 10,
   "metadata": {},
   "outputs": [
    {
     "data": {
      "image/png": "[encoded data removed]",
      "text/plain": [
       "<Figure size 640x480 with 1 Axes>"
      ]
     },
     "metadata": {},
     "output_type": "display_data"
    },
    {
     "name": "stdout",
     "output_type": "stream",
     "text": [
      "Step 1: Pick up yellow key\n",
      "Step 2: Open yellow door\n",
      "Step 3: Pick up purple key\n",
      "Step 4: Open purple door\n",
      "Step 5: Pick up yellow key\n",
      "Step 6: Drop yellow key next to purple ball\n"
     ]
    }
   ],
   "source": [
    "plan = planner.plan_drop_next_to('yellow', 'key', 'purple','ball')\n",
    "if plan:\n",
    "    fig, ax = plt.subplots()\n",
    "    render_env(env, ax, 2)\n",
    "    print(planner)\n",
    "else:\n",
    "    print(\"No valid plan found.\")"
   ]
  },
  {
   "cell_type": "code",
   "execution_count": null,
   "metadata": {},
   "outputs": [],
   "source": []
  }
 ],
 "metadata": {
  "kernelspec": {
   "display_name": ".venv",
   "language": "python",
   "name": "python3"
  },
  "language_info": {
   "codemirror_mode": {
    "name": "ipython",
    "version": 3
   },
   "file_extension": ".py",
   "mimetype": "text/x-python",
   "name": "python",
   "nbconvert_exporter": "python",
   "pygments_lexer": "ipython3",
   "version": "3.10.14"
  }
 },
 "nbformat": 4,
 "nbformat_minor": 2
}
