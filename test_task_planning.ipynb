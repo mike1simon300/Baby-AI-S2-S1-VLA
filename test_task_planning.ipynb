{
 "cells": [
  {
   "cell_type": "code",
   "execution_count": 59,
   "metadata": {},
   "outputs": [
    {
     "name": "stdout",
     "output_type": "stream",
     "text": [
      "['MiniGrid-BlockedUnlockPickup-v0', 'MiniGrid-LavaCrossingS9N1-v0', 'MiniGrid-LavaCrossingS9N2-v0', 'MiniGrid-LavaCrossingS9N3-v0', 'MiniGrid-LavaCrossingS11N5-v0', 'MiniGrid-SimpleCrossingS9N1-v0', 'MiniGrid-SimpleCrossingS9N2-v0', 'MiniGrid-SimpleCrossingS9N3-v0', 'MiniGrid-SimpleCrossingS11N5-v0', 'MiniGrid-DistShift1-v0', 'MiniGrid-DistShift2-v0', 'MiniGrid-DoorKey-5x5-v0', 'MiniGrid-DoorKey-6x6-v0', 'MiniGrid-DoorKey-8x8-v0', 'MiniGrid-DoorKey-16x16-v0', 'MiniGrid-Dynamic-Obstacles-5x5-v0', 'MiniGrid-Dynamic-Obstacles-Random-5x5-v0', 'MiniGrid-Dynamic-Obstacles-6x6-v0', 'MiniGrid-Dynamic-Obstacles-Random-6x6-v0', 'MiniGrid-Dynamic-Obstacles-8x8-v0', 'MiniGrid-Dynamic-Obstacles-16x16-v0', 'MiniGrid-Empty-5x5-v0', 'MiniGrid-Empty-Random-5x5-v0', 'MiniGrid-Empty-6x6-v0', 'MiniGrid-Empty-Random-6x6-v0', 'MiniGrid-Empty-8x8-v0', 'MiniGrid-Empty-16x16-v0', 'MiniGrid-Fetch-5x5-N2-v0', 'MiniGrid-Fetch-6x6-N2-v0', 'MiniGrid-Fetch-8x8-N3-v0', 'MiniGrid-FourRooms-v0', 'MiniGrid-GoToDoor-5x5-v0', 'MiniGrid-GoToDoor-6x6-v0', 'MiniGrid-GoToDoor-8x8-v0', 'MiniGrid-GoToObject-6x6-N2-v0', 'MiniGrid-GoToObject-8x8-N2-v0', 'MiniGrid-KeyCorridorS3R1-v0', 'MiniGrid-KeyCorridorS3R2-v0', 'MiniGrid-KeyCorridorS3R3-v0', 'MiniGrid-KeyCorridorS4R3-v0', 'MiniGrid-KeyCorridorS5R3-v0', 'MiniGrid-KeyCorridorS6R3-v0', 'MiniGrid-LavaGapS5-v0', 'MiniGrid-LavaGapS6-v0', 'MiniGrid-LavaGapS7-v0', 'MiniGrid-LockedRoom-v0', 'MiniGrid-MemoryS17Random-v0', 'MiniGrid-MemoryS13Random-v0', 'MiniGrid-MemoryS13-v0', 'MiniGrid-MemoryS11-v0', 'MiniGrid-MemoryS9-v0', 'MiniGrid-MemoryS7-v0', 'MiniGrid-MultiRoom-N2-S4-v0', 'MiniGrid-MultiRoom-N4-S5-v0', 'MiniGrid-MultiRoom-N6-v0', 'MiniGrid-ObstructedMaze-1Dl-v0', 'MiniGrid-ObstructedMaze-1Dlh-v0', 'MiniGrid-ObstructedMaze-1Dlhb-v0', 'MiniGrid-ObstructedMaze-2Dl-v0', 'MiniGrid-ObstructedMaze-2Dlh-v0', 'MiniGrid-ObstructedMaze-2Dlhb-v0', 'MiniGrid-ObstructedMaze-1Q-v0', 'MiniGrid-ObstructedMaze-2Q-v0', 'MiniGrid-ObstructedMaze-Full-v0', 'MiniGrid-ObstructedMaze-2Dlhb-v1', 'MiniGrid-ObstructedMaze-1Q-v1', 'MiniGrid-ObstructedMaze-2Q-v1', 'MiniGrid-ObstructedMaze-Full-v1', 'MiniGrid-Playground-v0', 'MiniGrid-PutNear-6x6-N2-v0', 'MiniGrid-PutNear-8x8-N3-v0', 'MiniGrid-RedBlueDoors-6x6-v0', 'MiniGrid-RedBlueDoors-8x8-v0', 'MiniGrid-Unlock-v0', 'MiniGrid-UnlockPickup-v0', 'MiniGrid-WFC-MazeSimple-v0', 'MiniGrid-WFC-DungeonMazeScaled-v0', 'MiniGrid-WFC-RoomsFabric-v0', 'MiniGrid-WFC-ObstaclesBlackdots-v0', 'MiniGrid-WFC-ObstaclesAngular-v0', 'MiniGrid-WFC-ObstaclesHogs3-v0']\n",
      "seed is 39\n"
     ]
    },
    {
     "data": {
      "image/png": "[encoded data removed]",
      "text/plain": [
       "<Figure size 640x480 with 1 Axes>"
      ]
     },
     "metadata": {},
     "output_type": "display_data"
    },
    {
     "name": "stdout",
     "output_type": "stream",
     "text": [
      "\n",
      "Knowledge Base: \n",
      "Room 0:\n",
      "  purple key is at (3, 3)\n",
      "  purple ball is at (3, 4)\n",
      "  red door is at (7, 6) and is currently closed\n",
      "Room 1:\n",
      "  purple box is at (8, 3)\n",
      "  yellow door is at (14, 2) and is currently locked\n",
      "  red door is at (7, 6) and is currently closed\n",
      "  green door is at (11, 7) and is currently closed\n",
      "Room 2:\n",
      "  yellow key is at (18, 1)\n",
      "  yellow ball is at (17, 2)\n",
      "  yellow door is at (14, 2) and is currently locked\n",
      "Room 3:\n",
      "  blue box is at (1, 9)\n",
      "  blue key is at (5, 9)\n",
      "  grey key is at (3, 12)\n",
      "  purple door is at (7, 8) and is currently closed\n",
      "  red door is at (2, 14) and is currently closed\n",
      "Room 4:\n",
      "  purple box is at (10, 10)\n",
      "  grey ball is at (12, 10)\n",
      "  red box is at (10, 12)\n",
      "  yellow key is at (9, 13)\n",
      "  green door is at (11, 7) and is currently closed\n",
      "  purple door is at (7, 8) and is currently closed\n",
      "  green door is at (12, 14) and is currently closed\n",
      "Room 5:\n",
      "  yellow ball is at (15, 13)\n",
      "  grey door is at (18, 14) and is currently closed\n",
      "Room 6:\n",
      "  grey box is at (2, 15)\n",
      "  red door is at (2, 14) and is currently closed\n",
      "  green door is at (7, 17) and is currently closed\n",
      "Room 7:\n",
      "  grey ball is at (11, 15)\n",
      "  yellow box is at (8, 19)\n",
      "  purple ball is at (11, 17)\n",
      "  purple box is at (10, 19)\n",
      "  green door is at (12, 14) and is currently closed\n",
      "  green door is at (7, 17) and is currently closed\n",
      "  purple door is at (14, 19) and is currently closed\n",
      "Room 8:\n",
      "  red ball is at (17, 18)\n",
      "  grey door is at (18, 14) and is currently closed\n",
      "  purple door is at (14, 19) and is currently closed\n",
      "\n",
      "Connections:\n",
      "Room 1 connect to Room 2 by yellow door at (14, 2) which is currently locked\n",
      "Room 0 connect to Room 1 by red door at (7, 6) which is currently closed\n",
      "Room 1 connect to Room 4 by green door at (11, 7) which is currently closed\n",
      "Room 3 connect to Room 4 by purple door at (7, 8) which is currently closed\n",
      "Room 3 connect to Room 6 by red door at (2, 14) which is currently closed\n",
      "Room 4 connect to Room 7 by green door at (12, 14) which is currently closed\n",
      "Room 5 connect to Room 8 by grey door at (18, 14) which is currently closed\n",
      "Room 6 connect to Room 7 by green door at (7, 17) which is currently closed\n",
      "Room 7 connect to Room 8 by purple door at (14, 19) which is currently closed\n",
      "\n"
     ]
    }
   ],
   "source": [
    "%reload_ext autoreload\n",
    "%autoreload 2\n",
    "import random\n",
    "import gymnasium as gym\n",
    "import minigrid\n",
    "import matplotlib.pyplot as plt\n",
    "from VLA2Systems.utils import (\n",
    "    print_grid,\n",
    "    render_env\n",
    ")\n",
    "from VLA2Systems.knowledge_base import KnowledgeBase\n",
    "import imageio\n",
    "\n",
    "def save_env_image(env, filename=\"env_image.png\"):\n",
    "    \"\"\"Save the environment image to a file.\"\"\"\n",
    "    frame = env.render()\n",
    "    imageio.imwrite(filename, frame)\n",
    "\n",
    "# # List all available MiniGrid environments\n",
    "env_list = [env_id for env_id in gym.envs.registry if \"MiniGrid\" in env_id]\n",
    "print(env_list)\n",
    "# Randomly select an environment\n",
    "env_name = random.choice(env_list)\n",
    "# print(f\"Selected Environment: {env_name}\")\n",
    "# env_name = \"BabyAI-ActionObjDoor-v0\"\n",
    "# env_name = \"MiniGrid-DoorKey-16x16-v0\"\n",
    "# env_name = \"BabyAI-BlockedUnlockPickup-v0\"\n",
    "# env_name = \"BabyAI-FindObjS5-v0\"\n",
    "# env_name = \"BabyAI-BossLevel-v0\"\n",
    "# env_name = \"MiniGrid-MultiRoom-N6-v0\"\n",
    "# env_name = \"MiniGrid-MultiRoom-N4-S5-v0\"\n",
    "env_name = \"BabyAI-SynthLoc-v0\"\n",
    "\n",
    "# seed = 69\n",
    "seed = random.randint(1, 1000)\n",
    "# seed = 232 # 152, 232\n",
    "seed = 39\n",
    "print(f\"seed is {seed}\")\n",
    "# Create the environment\n",
    "env = gym.make(env_name, render_mode=\"rgb_array\")\n",
    "\n",
    "# Reset the environment to initialize it\n",
    "env.reset(seed=seed)\n",
    "# env.reset()\n",
    "knowledge_base = KnowledgeBase(env)\n",
    "# Print the grid\n",
    "# print(\"\\nGrid Map:\")\n",
    "# print_grid(knowledge_base.grid_data)\n",
    "# Render the environment dynamically\n",
    "fig, ax = plt.subplots()\n",
    "render_env(env, ax, 2)\n",
    "# Save the environment image\n",
    "save_env_image(env, filename=\"env_image.png\")\n",
    "\n",
    "print(f\"\\nKnowledge Base: \\n{knowledge_base}\\n\")\n",
    "with open(\"./file.txt\",'w') as file:\n",
    "    file.write(str(knowledge_base))\n"
   ]
  },
  {
   "cell_type": "code",
   "execution_count": 60,
   "metadata": {},
   "outputs": [],
   "source": [
    "# knowledge_base.KB['rooms'][0][-1]['state'] = 'open'\n",
    "# knowledge_base.KB['rooms'][0][-1]['state'] = 'closed'\n",
    "# knowledge_base.KB['rooms'][0][-1]['state'] = 'locked'\n",
    "# knowledge_base.KB['connections'][0]\n",
    "# print(knowledge_base.KB['connections'][0][2]['state'])\n",
    "\n",
    "# print(knowledge_base)"
   ]
  },
  {
   "cell_type": "code",
   "execution_count": 65,
   "metadata": {},
   "outputs": [
    {
     "name": "stdout",
     "output_type": "stream",
     "text": [
      "Planner\n",
      "start location is: (1, (12, 2))\n"
     ]
    }
   ],
   "source": [
    "%reload_ext autoreload\n",
    "%autoreload 2\n",
    "from VLA2Systems.task_planning import RobotPlanner\n",
    "print(\"Planner\")\n",
    "robot_position = env.unwrapped.agent_pos\n",
    "robot_direction = env.unwrapped.agent_dir\n",
    "start_location = int(robot_direction), tuple((int(robot_position[0]), int(robot_position[1])))\n",
    "# start_location = 0, (1, 11)\n",
    "\n",
    "print(f\"start location is: {start_location}\")\n",
    "\n",
    "planner = RobotPlanner(knowledge_base, start_location=start_location, verbose=0)\n"
   ]
  },
  {
   "cell_type": "code",
   "execution_count": 66,
   "metadata": {},
   "outputs": [
    {
     "data": {
      "image/png": "[encoded data removed]",
      "text/plain": [
       "<Figure size 640x480 with 1 Axes>"
      ]
     },
     "metadata": {},
     "output_type": "display_data"
    },
    {
     "name": "stdout",
     "output_type": "stream",
     "text": [
      "Task is: go to purple box in (10, 19)\n",
      "Step 1: Go to green door\n",
      "Step 2: Open door\n",
      "Step 3: Go to purple door\n",
      "Step 4: Open door\n",
      "Step 5: Go to red door\n",
      "Step 6: Open door\n",
      "Step 7: Go to green door\n",
      "Step 8: Open door\n",
      "Step 9: Go to green door\n",
      "Step 10: Open door\n",
      "Step 11: Go to purple box\n"
     ]
    }
   ],
   "source": [
    "# plan = planner.plan_go_to('red', 'door')\n",
    "# plan = planner.plan_go_to('green', 'key')\n",
    "# plan = planner.plan_go_to('yellow', 'key')\n",
    "# plan = planner.plan_go_to('blue', 'box')\n",
    "# plan = planner.plan_go_to('green', 'goal')\n",
    "plan = planner.plan_go_to('purple', 'box', (10, 19))\n",
    "# print(plan)\n",
    "if plan:\n",
    "    fig, ax = plt.subplots()\n",
    "    render_env(env, ax, 2)\n",
    "    print(\"Task is: go to purple box in (10, 19)\")\n",
    "    print(planner)\n",
    "else:\n",
    "    print(\"No valid plan found.\")"
   ]
  },
  {
   "cell_type": "code",
   "execution_count": 58,
   "metadata": {},
   "outputs": [],
   "source": [
    "# plan = planner.plan_pick_up('yellow', 'key')\n",
    "# if plan:\n",
    "#     print(planner)\n",
    "# else:\n",
    "#     print(\"No valid plan found.\")"
   ]
  },
  {
   "cell_type": "code",
   "execution_count": null,
   "metadata": {},
   "outputs": [],
   "source": []
  }
 ],
 "metadata": {
  "kernelspec": {
   "display_name": ".venv",
   "language": "python",
   "name": "python3"
  },
  "language_info": {
   "codemirror_mode": {
    "name": "ipython",
    "version": 3
   },
   "file_extension": ".py",
   "mimetype": "text/x-python",
   "name": "python",
   "nbconvert_exporter": "python",
   "pygments_lexer": "ipython3",
   "version": "3.10.14"
  }
 },
 "nbformat": 4,
 "nbformat_minor": 2
}
