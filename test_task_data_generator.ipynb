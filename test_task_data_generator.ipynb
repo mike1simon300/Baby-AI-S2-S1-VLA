{
 "cells": [
  {
   "cell_type": "code",
   "execution_count": 2,
   "metadata": {},
   "outputs": [
    {
     "name": "stdout",
     "output_type": "stream",
     "text": [
      "Knowledge Base:\n",
      "Room 0:\n",
      "  grey ball is at (6, 4)\n",
      "There is no Connections.\n",
      "Robot location: (2, 3)\n",
      "Mission: pick up the ball\n",
      "Plan is: \n",
      "Step 1: Pick up a ball\n"
     ]
    }
   ],
   "source": [
    "%reload_ext autoreload\n",
    "%autoreload 2\n",
    "import random\n",
    "from VLA2Systems.task_data_generator import TaskDataGenerator\n",
    "# Using a simple list\n",
    "# env_list = [\"MiniGrid-DoorKey-16x16-v0\", \"MiniGrid-MultiRoom-N6-v0\"]\n",
    "env_list = [\"BabyAI-OneRoomS8-v0\", \"BabyAI-ActionObjDoor-v0\"]\n",
    "\n",
    "generator = TaskDataGenerator(env_list)\n",
    "seed = random.randint(1, 1000)\n",
    "generator.reset(seed=seed)\n",
    "plan = generator.generate_plan()\n",
    "if plan:\n",
    "    text = generator.plan2text(include_all=True)\n",
    "    print(text)\n",
    "else:\n",
    "    print(\"Planning Failed\")\n"
   ]
  },
  {
   "cell_type": "code",
   "execution_count": null,
   "metadata": {},
   "outputs": [
    {
     "name": "stdout",
     "output_type": "stream",
     "text": [
      "Input text:\n",
      "Knowledge Base:\n",
      "Room 0:\n",
      "  red ball is at (2, 1)\n",
      "  red door is at (5, 4) and is currently locked\n",
      "Room 1:\n",
      "  yellow key is at (7, 2)\n",
      "  yellow door is at (10, 3) and is currently locked\n",
      "  red door is at (5, 4) and is currently locked\n",
      "Room 2:\n",
      "  red key is at (11, 2)\n",
      "  yellow door is at (10, 3) and is currently locked\n",
      "\n",
      "Connections:\n",
      "Room 1 connect to Room 2 by yellow door at (10, 3) which is currently locked\n",
      "Room 0 connect to Room 1 by red door at (5, 4) which is currently locked\n",
      "Robot location: (8, 3), which is in Room 1\n",
      "Mission: pick up the ball\n",
      "In order to achieve the mission the robot should preform these steps:\n",
      "\n",
      "Output text:\n",
      "Step 1: Pick up yellow key\n",
      "Step 2: Open yellow door\n",
      "Step 3: Pick up red key\n",
      "Step 4: Open red door\n",
      "Step 5: Pick up a ball\n"
     ]
    }
   ],
   "source": [
    "# Using a difficulty-based dictionary\n",
    "env_dict = {\n",
    "    \"easy\": [\"BabyAI-ActionObjDoor-v0\"],\n",
    "    \"intermediate\": [\"BabyAI-FindObjS5-v0\"],\n",
    "    \"hard\": [\"BabyAI-UnlockToUnlock-v0\", \"BabyAI-Synth-v0\"]\n",
    "}\n",
    "index = 0\n",
    "generator = TaskDataGenerator(env_dict)\n",
    "generator.reset(difficulty=\"hard\")  # Select from \"hard\" list\n",
    "generator.generate_plan()\n",
    "generator.save_env_image(filename=f\"Image-{generator.env_name}-{generator.seed}-{index}.png\")\n",
    "if plan:\n",
    "    input_text = generator.get_input_text(include_robot_current_room=True)\n",
    "    output_text = generator.get_output_text()\n",
    "    print(f\"Input text:\\n{input_text}\")\n",
    "    print(f\"Output text:\\n{output_text}\")\n",
    "else:\n",
    "    print(\"Planning Failed\")\n"
   ]
  },
  {
   "cell_type": "code",
   "execution_count": null,
   "metadata": {},
   "outputs": [],
   "source": []
  }
 ],
 "metadata": {
  "kernelspec": {
   "display_name": ".venv",
   "language": "python",
   "name": "python3"
  },
  "language_info": {
   "codemirror_mode": {
    "name": "ipython",
    "version": 3
   },
   "file_extension": ".py",
   "mimetype": "text/x-python",
   "name": "python",
   "nbconvert_exporter": "python",
   "pygments_lexer": "ipython3",
   "version": "3.10.14"
  }
 },
 "nbformat": 4,
 "nbformat_minor": 2
}
